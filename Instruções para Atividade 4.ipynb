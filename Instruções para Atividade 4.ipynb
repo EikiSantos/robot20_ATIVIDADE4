{
 "cells": [
  {
   "cell_type": "markdown",
   "metadata": {},
   "source": [
    "## Usando o simulador Gazebo e o robô Turtlebot3.\n",
    "\n",
    "Antes de começar, precisamos atualizar nosso repositorio my_simulation, para isso abra um terminal Crtl+Alt+t e digite:"
   ]
  },
  {
   "cell_type": "raw",
   "metadata": {},
   "source": [
    "cd ~/catkin_ws/src/my_simulation\n",
    "git pull  "
   ]
  },
  {
   "cell_type": "markdown",
   "metadata": {},
   "source": [
    "Execute o comando catkin_make na pasta raiz catkin_ws"
   ]
  },
  {
   "cell_type": "raw",
   "metadata": {},
   "source": [
    "cd ~/catkin_ws\n",
    "catkin_make"
   ]
  },
  {
   "cell_type": "markdown",
   "metadata": {},
   "source": [
    "Vamos subir o nosso mundo simulado"
   ]
  },
  {
   "cell_type": "raw",
   "metadata": {},
   "source": [
    "roslaunch my_simulation sala404_creepers.launch"
   ]
  },
  {
   "cell_type": "markdown",
   "metadata": {},
   "source": [
    "Abra um novo terminal (Crtl+Alt+t) e execute o rosrun para renomear o topico da câmera"
   ]
  },
  {
   "cell_type": "raw",
   "metadata": {},
   "source": [
    "rosrun topic_tools relay  /camera/rgb/image_raw/compressed /kamera"
   ]
  },
  {
   "cell_type": "markdown",
   "metadata": {},
   "source": [
    "Abra um novo terminal (Crtl+Alt+t) e execute o rosrun para renomear o topico da câmera"
   ]
  },
  {
   "cell_type": "raw",
   "metadata": {},
   "source": [
    "rosrun exemplos_python cor.py"
   ]
  },
  {
   "cell_type": "markdown",
   "metadata": {},
   "source": [
    "\n",
    "\n",
    "Se tudo ocorreu bem, agora o nosso turtlebot esta realizado a segmentação de cor e detectando a caixa vermelho em nosso mundo simulado."
   ]
  },
  {
   "cell_type": "markdown",
   "metadata": {},
   "source": [
    "## Video do guia\n",
    "\n",
    "Fiquei com duvida no guia, acompanha o video.\n",
    "\n",
    "https://www.youtube.com/watch?v=OKphJFyhnSg&feature=youtu.be\n",
    "\n",
    "Se der alguma coisa errada, consulte esses guia de sobrevivência ROS Gazebo\n",
    "\n",
    "https://www.youtube.com/playlist?list=PLM8rZg4fCalht-rexa91MO1y3jxm9mwOa"
   ]
  },
  {
   "cell_type": "code",
   "execution_count": null,
   "metadata": {},
   "outputs": [],
   "source": []
  }
 ],
 "metadata": {
  "kernelspec": {
   "display_name": "Python 3",
   "language": "python",
   "name": "python3"
  },
  "language_info": {
   "codemirror_mode": {
    "name": "ipython",
    "version": 3
   },
   "file_extension": ".py",
   "mimetype": "text/x-python",
   "name": "python",
   "nbconvert_exporter": "python",
   "pygments_lexer": "ipython3",
   "version": "3.6.9"
  }
 },
 "nbformat": 4,
 "nbformat_minor": 4
}
